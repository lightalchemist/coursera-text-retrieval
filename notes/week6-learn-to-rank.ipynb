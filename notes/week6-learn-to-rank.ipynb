{
 "cells": [
  {
   "cell_type": "markdown",
   "metadata": {},
   "source": [
    "# Learning to rank + collaborative filtering"
   ]
  },
  {
   "cell_type": "markdown",
   "metadata": {},
   "source": [
    "## Learning to rank\n",
    "\n",
    "- Define feature vector $\\mathbf{x} = \\left(x_1(q, d), \\dots, x_n(q, d) \\right)$ for a query-doc pair $(q, d)$.\n",
    "  - Features $x_i(q, d)$ can be BM25, PageRank etc.\n",
    "- Learn a score function $P(R \\mid q, d) = s(\\mathbf{x}, \\beta)$,\n",
    "  where $\\beta$ is a set of parameters, given training data.\n",
    "- Use a logistic regression model to model the probability, $P(R = 1 \\mid q, d)$."
   ]
  },
  {
   "cell_type": "markdown",
   "metadata": {},
   "source": [
    "## Logistic Regression\n",
    "\n",
    "\\begin{align}\n",
    " \\text{ Let }                             z &= \\begin{bmatrix} x\\\\ 1 \\end{bmatrix}.\\\\\n",
    "\\log \\frac{P\\left(R = 1 \\mid q, d\\right)}\n",
    "          {1 - P\\left(R = 1 \\mid q, d\\right)} \n",
    "                                            &= \\beta_0 + \\sum_1^n\\beta_i x_i(q, d) \\\\\n",
    "                                            &= \\beta^T z \\\\\n",
    "\\therefore P \\left((R = 1 \\mid q, d \\right) &= \\frac{ \\exp\\left( {\\beta^T z} \\right) }\n",
    "                                                     { 1 + \\exp \\left( \\beta^T z \\right) } \\\\\n",
    "                                            &= \\frac{1}{1 + \\exp \\left( -\\beta^T z \\right)}\n",
    "\\end{align}\n"
   ]
  },
  {
   "cell_type": "markdown",
   "metadata": {},
   "source": []
  }
 ],
 "metadata": {
  "hide_input": false,
  "kernelspec": {
   "display_name": "Python 3",
   "language": "python",
   "name": "python3"
  },
  "language_info": {
   "codemirror_mode": {
    "name": "ipython",
    "version": 3
   },
   "file_extension": ".py",
   "mimetype": "text/x-python",
   "name": "python",
   "nbconvert_exporter": "python",
   "pygments_lexer": "ipython3",
   "version": "3.6.7"
  },
  "toc": {
   "base_numbering": 1,
   "nav_menu": {},
   "number_sections": true,
   "sideBar": true,
   "skip_h1_title": false,
   "title_cell": "Table of Contents",
   "title_sidebar": "Contents",
   "toc_cell": false,
   "toc_position": {},
   "toc_section_display": true,
   "toc_window_display": false
  },
  "varInspector": {
   "cols": {
    "lenName": 16,
    "lenType": 16,
    "lenVar": 40
   },
   "kernels_config": {
    "python": {
     "delete_cmd_postfix": "",
     "delete_cmd_prefix": "del ",
     "library": "var_list.py",
     "varRefreshCmd": "print(var_dic_list())"
    },
    "r": {
     "delete_cmd_postfix": ") ",
     "delete_cmd_prefix": "rm(",
     "library": "var_list.r",
     "varRefreshCmd": "cat(var_dic_list()) "
    }
   },
   "types_to_exclude": [
    "module",
    "function",
    "builtin_function_or_method",
    "instance",
    "_Feature"
   ],
   "window_display": false
  }
 },
 "nbformat": 4,
 "nbformat_minor": 2
}
